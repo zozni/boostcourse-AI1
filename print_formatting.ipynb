{
 "cells": [
  {
   "cell_type": "code",
   "execution_count": 5,
   "metadata": {},
   "outputs": [
    {
     "name": "stdout",
     "output_type": "stream",
     "text": [
      "1 2 3\n",
      "a b c\n",
      "1 2 3\n",
      "a b c\n",
      "value is 5\n"
     ]
    }
   ],
   "source": [
    "print(1,2,3)\n",
    "print(\"a\" + \" \" + \"b\" + \" \" + \"c\")\n",
    "print(\"%d %d %d\" % (1,2,3))\n",
    "print(\"{} {} {}\".format(\"a\",\"b\",\"c\"))\n",
    "\n",
    "value = 5\n",
    "print(f\"value is {value}\")"
   ]
  },
  {
   "cell_type": "code",
   "execution_count": 7,
   "metadata": {},
   "outputs": [
    {
     "name": "stdout",
     "output_type": "stream",
     "text": [
      "one two\n",
      "one two\n",
      "1 2\n",
      "1 2\n"
     ]
    }
   ],
   "source": [
    "print('%s %s' % ('one', 'two'))\n",
    "print('{} {}'.format('one', 'two'))\n",
    "print('%d %d' % (1, 2))\n",
    "print('{} {}'.format(1, 2))"
   ]
  },
  {
   "cell_type": "code",
   "execution_count": 6,
   "metadata": {},
   "outputs": [
    {
     "name": "stdout",
     "output_type": "stream",
     "text": [
      "I eat 3 apples.\n",
      "I eat five apples.\n",
      "I ate 3 apples. I was sick for three days.\n",
      "Product: Apple, Price per unit: 5.243000.\n"
     ]
    }
   ],
   "source": [
    "print(\"I eat %d apples.\" % 3)  # 이거슨 %string - string formatting\n",
    "print(\"I eat %s apples.\" % \"five\")\n",
    "number = 3; day=\"three\"\n",
    "print(\"I ate %d apples. I was sick for %s days.\"% (number, day))\n",
    "print(\"Product: %s, Price per unit: %f.\" % (\"Apple\", 5.243))"
   ]
  },
  {
   "cell_type": "code",
   "execution_count": 10,
   "metadata": {},
   "outputs": [
    {
     "name": "stdout",
     "output_type": "stream",
     "text": [
      "Product: Apple, Price per unit: 5.24300.\n",
      "Product: Apple, Price per unit: 5.24300.\n",
      "Product:      Apple, Price per unit:      5.243.\n",
      "Product:      Apple, Price per unit:      5.243.\n"
     ]
    }
   ],
   "source": [
    "print(\"Product: %5s, Price per unit: %.5f.\" % (\"Apple\", 5.243))\n",
    "print(\"Product: {0:5s}, Price per unit: {1:.5f}.\".format(\"Apple\", 5.243))\n",
    "print(\"Product: %10s, Price per unit: %10.3f.\" % (\"Apple\", 5.243))\n",
    "print(\"Product: {0:>10s}, Price per unit: {1:10.3f}.\".format(\"Apple\", 5.243))"
   ]
  },
  {
   "cell_type": "code",
   "execution_count": 12,
   "metadata": {},
   "outputs": [
    {
     "name": "stdout",
     "output_type": "stream",
     "text": [
      "Product:      Apple, Price per unit:    5.24300.\n",
      "Product:      Apple, Price per unit:    5.24300.\n"
     ]
    }
   ],
   "source": [
    "print(\"Product: %(name)10s, Price per unit: %(price)10.5f.\" % {\"name\":\"Apple\", \"price\":5.243})\n",
    "print(\"Product: {name:>10s}, Price per unit: {price:10.5f}.\".format(name=\"Apple\", price=5.243))"
   ]
  },
  {
   "cell_type": "code",
   "execution_count": 7,
   "metadata": {},
   "outputs": [
    {
     "name": "stdout",
     "output_type": "stream",
     "text": [
      "Hello, Sungchul. You are 39.\n",
      "Sungchul            \n",
      "            Sungchul\n",
      "Sungchul************\n",
      "************Sungchul\n",
      "******Sungchul******\n",
      "3.14\n"
     ]
    }
   ],
   "source": [
    "name = \"Sungchul\"\n",
    "age = 39\n",
    "print(f\"Hello, {name}. You are {age}.\")\n",
    "print(f'{name:20}')\n",
    "print(f'{name:>20}')\n",
    "print(f'{name:*<20}')\n",
    "print(f'{name:*>20}')\n",
    "print(f'{name:*^20}')\n",
    "number = 3.141592653589793\n",
    "print(f'{number:.2f}')"
   ]
  },
  {
   "cell_type": "code",
   "execution_count": 11,
   "metadata": {},
   "outputs": [
    {
     "name": "stdout",
     "output_type": "stream",
     "text": [
      "I’m 36 years old.\n"
     ]
    }
   ],
   "source": [
    "age = 36                #이거슨 str.format()함수 - format formatting\n",
    "name='Sungchul Choi'    \n",
    "print(\"I’m {0} years old.\".format(age))"
   ]
  },
  {
   "cell_type": "code",
   "execution_count": 12,
   "metadata": {},
   "outputs": [
    {
     "name": "stdout",
     "output_type": "stream",
     "text": [
      "My name is Sungchul Choi and 36 years old.\n"
     ]
    }
   ],
   "source": [
    "print(\"My name is {0} and {1} years old.\".format(name,age))"
   ]
  },
  {
   "cell_type": "code",
   "execution_count": 15,
   "metadata": {},
   "outputs": [
    {
     "name": "stdout",
     "output_type": "stream",
     "text": [
      "Product: Apple, Price per unit: 5.243.\n"
     ]
    }
   ],
   "source": [
    "print(\"Product: {0}, Price per unit: {1:.3f}.\".format(\"Apple\", 5.243))"
   ]
  },
  {
   "cell_type": "code",
   "execution_count": 19,
   "metadata": {},
   "outputs": [
    {
     "name": "stdout",
     "output_type": "stream",
     "text": [
      "Product: Apple, Price per unit: 5.24300.\n",
      "Product: Apple, Price per unit: 5.24300.\n",
      "Product:      Apple, Price per unit:      5.243.\n",
      "Product:      Apple, Price per unit: 5.243     .\n"
     ]
    }
   ],
   "source": [
    "print(\"Product: %5s, Price per unit: %.5f.\" % (\"Apple\", 5.243))     # padding\n",
    "print(\"Product: {0:5s}, Price per unit: {1:.5f}.\".format(\"Apple\", 5.243))\n",
    "print(\"Product: %10s, Price per unit: %10.3f.\" % (\"Apple\", 5.243))\n",
    "print(\"Product: {0:>10s}, Price per unit: {1:<10.3f}.\".format(\"Apple\", 5.243))"
   ]
  },
  {
   "cell_type": "code",
   "execution_count": 23,
   "metadata": {},
   "outputs": [
    {
     "name": "stdout",
     "output_type": "stream",
     "text": [
      "Product:      Apple, Price per unit:    5.24300.\n",
      "Product:      Apple, Price per unit:    5.24300.\n"
     ]
    }
   ],
   "source": [
    "print(\"Product: %(name)10s, Price per unit: %(price)10.5f.\" %{\"name\":\"Apple\", \"price\":5.243})  #naming\n",
    "print(\"Product: {name:>10s}, Price per unit: {price:10.5f}.\".format(name=\"Apple\", price=5.243))"
   ]
  },
  {
   "cell_type": "code",
   "execution_count": 24,
   "metadata": {},
   "outputs": [
    {
     "name": "stdout",
     "output_type": "stream",
     "text": [
      "Hello, Sungchul. You are 39.\n",
      "Sungchul            \n",
      "            Sungchul\n",
      "Sungchul************\n",
      "************Sungchul\n",
      "******Sungchul******\n",
      "3.14\n"
     ]
    }
   ],
   "source": [
    "name = \"Sungchul\"     #fstring\n",
    "age = 39\n",
    "print(f\"Hello, {name}. You are {age}.\")\n",
    "print(f'{name:20}')\n",
    "print(f'{name:>20}')\n",
    "print(f'{name:*<20}')\n",
    "print(f'{name:*>20}')\n",
    "print(f'{name:*^20}')\n",
    "\n",
    "number = 3.141592653589793\n",
    "print(f'{number:.2f}')"
   ]
  }
 ],
 "metadata": {
  "kernelspec": {
   "display_name": "Python 3",
   "language": "python",
   "name": "python3"
  },
  "language_info": {
   "codemirror_mode": {
    "name": "ipython",
    "version": 3
   },
   "file_extension": ".py",
   "mimetype": "text/x-python",
   "name": "python",
   "nbconvert_exporter": "python",
   "pygments_lexer": "ipython3",
   "version": "3.8.3"
  }
 },
 "nbformat": 4,
 "nbformat_minor": 4
}
