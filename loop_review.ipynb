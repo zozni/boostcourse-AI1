{
 "cells": [
  {
   "cell_type": "code",
   "execution_count": 4,
   "metadata": {},
   "outputs": [
    {
     "name": "stdout",
     "output_type": "stream",
     "text": [
      "REVERSE #2  I\n",
      "REVERSE #2   I\n",
      "REVERSE #2  l I\n",
      "REVERSE #2  ol I\n",
      "REVERSE #2  vol I\n",
      "REVERSE #2  evol I\n",
      "REVERSE #2   evol I\n",
      "REVERSE #2  Y evol I\n",
      "REVERSE #2  oY evol I\n",
      "REVERSE #2  uoY evol I\n"
     ]
    }
   ],
   "source": [
    "sentence = \"I love You\"     #루프 리뷰\n",
    "reverse_sen = \"\"\n",
    "\n",
    "for char in sentence:\n",
    "    #print(char)\n",
    " #   print(\"REVERSE #1 \", reverse_sen)\n",
    "    reverse_sen = char + reverse_sen\n",
    "    print(\"REVERSE #2 \", reverse_sen)"
   ]
  },
  {
   "cell_type": "code",
   "execution_count": 5,
   "metadata": {},
   "outputs": [
    {
     "name": "stdout",
     "output_type": "stream",
     "text": [
      "uoY evol I\n"
     ]
    }
   ],
   "source": [
    "sentence = \"I love You\"\n",
    "reverse_sentence = ''\n",
    "for char in sentence:\n",
    "    reverse_sentence = char + reverse_sentence\n",
    "print(reverse_sentence)"
   ]
  },
  {
   "cell_type": "code",
   "execution_count": 11,
   "metadata": {},
   "outputs": [
    {
     "name": "stdout",
     "output_type": "stream",
     "text": [
      "십진수를 입력해주세요 : 10\n",
      "decimal value : 5\n",
      "decimal value : 2\n",
      "decimal value : 1\n",
      "decimal value : 0\n",
      "1010\n"
     ]
    }
   ],
   "source": [
    "decimal = int(input(\"십진수를 입력해주세요 : \"))\n",
    "result =\"\"\n",
    "while (decimal > 0):\n",
    "    remainder = decimal % 2\n",
    "    decimal = decimal // 2\n",
    "    result = str(remainder) + result\n",
    "    print(f\"decimal value : {decimal}\")\n",
    "print(result)"
   ]
  },
  {
   "cell_type": "code",
   "execution_count": null,
   "metadata": {},
   "outputs": [],
   "source": []
  }
 ],
 "metadata": {
  "kernelspec": {
   "display_name": "Python 3",
   "language": "python",
   "name": "python3"
  },
  "language_info": {
   "codemirror_mode": {
    "name": "ipython",
    "version": 3
   },
   "file_extension": ".py",
   "mimetype": "text/x-python",
   "name": "python",
   "nbconvert_exporter": "python",
   "pygments_lexer": "ipython3",
   "version": "3.8.3"
  }
 },
 "nbformat": 4,
 "nbformat_minor": 4
}
