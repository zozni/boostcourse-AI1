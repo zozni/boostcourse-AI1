{
 "cells": [
  {
   "cell_type": "markdown",
   "metadata": {},
   "source": [
    "stack"
   ]
  },
  {
   "cell_type": "code",
   "execution_count": 2,
   "metadata": {},
   "outputs": [
    {
     "data": {
      "text/plain": [
       "10"
      ]
     },
     "execution_count": 2,
     "metadata": {},
     "output_type": "execute_result"
    }
   ],
   "source": [
    "a = [1,2,3,4,5]\n",
    "a.append(10)\n",
    "a.append(20)\n",
    "a.pop()   #20 출력   #pop은 return이 있으면서도 a자체가 변한다.\n",
    "a.pop()   #10 출력"
   ]
  },
  {
   "cell_type": "code",
   "execution_count": 5,
   "metadata": {},
   "outputs": [
    {
     "name": "stdout",
     "output_type": "stream",
     "text": [
      "d\n",
      "['h', 'e', 'l', 'l', 'o', ' ', 'w', 'o', 'r', 'l']\n",
      "l\n",
      "['h', 'e', 'l', 'l', 'o', ' ', 'w', 'o', 'r']\n",
      "r\n",
      "['h', 'e', 'l', 'l', 'o', ' ', 'w', 'o']\n",
      "o\n",
      "['h', 'e', 'l', 'l', 'o', ' ', 'w']\n",
      "w\n",
      "['h', 'e', 'l', 'l', 'o', ' ']\n",
      " \n",
      "['h', 'e', 'l', 'l', 'o']\n",
      "o\n",
      "['h', 'e', 'l', 'l']\n",
      "l\n",
      "['h', 'e', 'l']\n",
      "l\n",
      "['h', 'e']\n",
      "e\n",
      "['h']\n",
      "h\n",
      "[]\n"
     ]
    }
   ],
   "source": [
    "word = input(\"input a word : \")\n",
    "word_list = list(word)\n",
    "#print(word_list)\n",
    "for _ in range(len(word_list)):\n",
    "    print(word_list.pop())\n",
    "    print(word_list)"
   ]
  },
  {
   "cell_type": "markdown",
   "metadata": {},
   "source": [
    "queue"
   ]
  }
 ],
 "metadata": {
  "interpreter": {
   "hash": "9c330d7a07cad9ba9491c02083fd672e6f7179c6fb3637020cda8723b2ca6a5f"
  },
  "kernelspec": {
   "display_name": "Python 3 (ipykernel)",
   "language": "python",
   "name": "python3"
  },
  "language_info": {
   "codemirror_mode": {
    "name": "ipython",
    "version": 3
   },
   "file_extension": ".py",
   "mimetype": "text/x-python",
   "name": "python",
   "nbconvert_exporter": "python",
   "pygments_lexer": "ipython3",
   "version": "3.9.7"
  }
 },
 "nbformat": 4,
 "nbformat_minor": 2
}
